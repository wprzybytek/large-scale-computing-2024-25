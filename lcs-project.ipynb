{
 "cells": [
  {
   "metadata": {},
   "cell_type": "markdown",
   "source": "# Jupyter notebook with a cluster backend",
   "id": "623dff837953a1f2"
  },
  {
   "metadata": {},
   "cell_type": "markdown",
   "source": "Loading required dependencies",
   "id": "2d5f5acce595afcc"
  },
  {
   "metadata": {
    "ExecuteTime": {
     "end_time": "2024-12-02T09:57:28.711634Z",
     "start_time": "2024-12-02T09:57:27.973984Z"
    }
   },
   "cell_type": "code",
   "outputs": [],
   "execution_count": 1,
   "source": [
    "%load_ext slurm_magic\n",
    "import pandas\n",
    "import warnings\n",
    "\n",
    "warnings.filterwarnings(\"ignore\")"
   ],
   "id": "91793127-657e-46e2-baf9-fdc73f14a16b"
  },
  {
   "metadata": {},
   "cell_type": "markdown",
   "source": "# Running batch jobs",
   "id": "444118315b654514"
  },
  {
   "cell_type": "code",
   "execution_count": 2,
   "id": "929a2e74-0fdc-49eb-a670-3287ad96d673",
   "metadata": {
    "ExecuteTime": {
     "end_time": "2024-12-02T09:57:30.911771Z",
     "start_time": "2024-12-02T09:57:30.767552Z"
    }
   },
   "outputs": [
    {
     "data": {
      "text/plain": [
       "'Submitted batch job 13828588\\n'"
      ]
     },
     "execution_count": 2,
     "metadata": {},
     "output_type": "execute_result"
    }
   ],
   "source": [
    "%%sbatch\n",
    "#!/bin/python3\n",
    "#SBATCH -J testjob\n",
    "#SBATCH --nodes=1\n",
    "#SBATCH --ntasks-per-node=1\n",
    "#SBATCH --cpus-per-task=1\n",
    "#SBATCH --account=plglscclass24-cpu\n",
    "#SBATCH --partition=plgrid-now\n",
    "#SBATCH --time=00:10:00\n",
    "\n",
    "print(\"Hello world!\")"
   ]
  },
  {
   "metadata": {},
   "cell_type": "markdown",
   "source": "Display current queue status",
   "id": "486f8f8e7d8fb5d3"
  },
  {
   "cell_type": "code",
   "execution_count": 3,
   "id": "d17ad635-b5c9-4a8a-b1eb-216d149e04d8",
   "metadata": {
    "ExecuteTime": {
     "end_time": "2024-12-02T10:09:00.788829Z",
     "start_time": "2024-12-02T10:09:00.786216Z"
    }
   },
   "outputs": [
    {
     "data": {
      "text/html": [
       "<div>\n",
       "<style scoped>\n",
       "    .dataframe tbody tr th:only-of-type {\n",
       "        vertical-align: middle;\n",
       "    }\n",
       "\n",
       "    .dataframe tbody tr th {\n",
       "        vertical-align: top;\n",
       "    }\n",
       "\n",
       "    .dataframe thead th {\n",
       "        text-align: right;\n",
       "    }\n",
       "</style>\n",
       "<table border=\"1\" class=\"dataframe\">\n",
       "  <thead>\n",
       "    <tr style=\"text-align: right;\">\n",
       "      <th></th>\n",
       "      <th>JOBID</th>\n",
       "      <th>PARTITION</th>\n",
       "      <th>NAME</th>\n",
       "      <th>USER</th>\n",
       "      <th>ST</th>\n",
       "      <th>TIME</th>\n",
       "      <th>NODES</th>\n",
       "      <th>NODELIST(REASON)</th>\n",
       "    </tr>\n",
       "  </thead>\n",
       "  <tbody>\n",
       "    <tr>\n",
       "      <th>0</th>\n",
       "      <td>13828588</td>\n",
       "      <td>plgrid-no</td>\n",
       "      <td>testjob</td>\n",
       "      <td>plgwprzy</td>\n",
       "      <td>PD</td>\n",
       "      <td>0:00</td>\n",
       "      <td>1</td>\n",
       "      <td>(Priority)</td>\n",
       "    </tr>\n",
       "    <tr>\n",
       "      <th>1</th>\n",
       "      <td>13827786</td>\n",
       "      <td>plgrid-no</td>\n",
       "      <td>100k_dim</td>\n",
       "      <td>plgadabd</td>\n",
       "      <td>R</td>\n",
       "      <td>1:22:03</td>\n",
       "      <td>1</td>\n",
       "      <td>ac0637</td>\n",
       "    </tr>\n",
       "  </tbody>\n",
       "</table>\n",
       "</div>"
      ],
      "text/plain": [
       "      JOBID  PARTITION      NAME      USER  ST     TIME  NODES  \\\n",
       "0  13828588  plgrid-no   testjob  plgwprzy  PD     0:00      1   \n",
       "1  13827786  plgrid-no  100k_dim  plgadabd   R  1:22:03      1   \n",
       "\n",
       "  NODELIST(REASON)  \n",
       "0       (Priority)  \n",
       "1           ac0637  "
      ]
     },
     "execution_count": 3,
     "metadata": {},
     "output_type": "execute_result"
    }
   ],
   "source": [
    "%squeue"
   ]
  },
  {
   "metadata": {},
   "cell_type": "markdown",
   "source": "Show the output of the job",
   "id": "d0f5998f232f6acb"
  },
  {
   "cell_type": "code",
   "execution_count": 4,
   "id": "b44c2baa0a4859ea",
   "metadata": {
    "ExecuteTime": {
     "end_time": "2024-12-02T10:04:57.355621Z",
     "start_time": "2024-12-02T10:04:40.835857Z"
    }
   },
   "outputs": [
    {
     "name": "stdout",
     "output_type": "stream",
     "text": [
      "Hello world!\n"
     ]
    }
   ],
   "source": [
    "!cat slurm-13828588.out"
   ]
  },
  {
   "metadata": {},
   "cell_type": "markdown",
   "source": "# Running interactive jobs",
   "id": "6c179acf6b2548c4"
  },
  {
   "metadata": {},
   "cell_type": "markdown",
   "source": "Create script file",
   "id": "c4ede5e1c80b2a92"
  },
  {
   "cell_type": "code",
   "execution_count": 10,
   "id": "357fe367-1f40-48a5-9046-2a3bdea25129",
   "metadata": {},
   "outputs": [
    {
     "name": "stdout",
     "output_type": "stream",
     "text": [
      "Overwriting hello.py\n"
     ]
    }
   ],
   "source": [
    "%%writefile hello.py\n",
    "for i in range(3):\n",
    "    print(f'Hello {i}')"
   ]
  },
  {
   "metadata": {},
   "cell_type": "markdown",
   "source": "Run interactive job",
   "id": "4852579f5e918866"
  },
  {
   "cell_type": "code",
   "execution_count": 11,
   "id": "527106fe-c5db-48a7-bc95-844558e2ecbb",
   "metadata": {},
   "outputs": [
    {
     "data": {
      "text/plain": [
       "('Hello 0\\nHello 1\\nHello 2\\n',\n",
       " 'srun: job 13828610 queued and waiting for resources\\nsrun: job 13828610 has been allocated resources\\n')"
      ]
     },
     "execution_count": 11,
     "metadata": {},
     "output_type": "execute_result"
    }
   ],
   "source": [
    "%srun --account=plglscclass24-cpu --partition=plgrid-now python hello.py"
   ]
  }
 ],
 "metadata": {
  "kernelspec": {
   "display_name": "lsc",
   "language": "python",
   "name": "lsc"
  },
  "language_info": {
   "codemirror_mode": {
    "name": "ipython",
    "version": 3
   },
   "file_extension": ".py",
   "mimetype": "text/x-python",
   "name": "python",
   "nbconvert_exporter": "python",
   "pygments_lexer": "ipython3",
   "version": "3.11.10"
  }
 },
 "nbformat": 4,
 "nbformat_minor": 5
}
